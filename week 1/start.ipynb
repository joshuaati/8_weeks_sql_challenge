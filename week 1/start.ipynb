{
 "cells": [
  {
   "cell_type": "code",
   "execution_count": 4,
   "metadata": {},
   "outputs": [],
   "source": [
    "import pandas as pd\n",
    "import sqlite3"
   ]
  },
  {
   "cell_type": "code",
   "execution_count": 5,
   "metadata": {},
   "outputs": [],
   "source": [
    "with open('schema.sql', 'r') as file:\n",
    "    script = file.read() "
   ]
  },
  {
   "cell_type": "code",
   "execution_count": 6,
   "metadata": {},
   "outputs": [
    {
     "ename": "OperationalError",
     "evalue": "near \"SCHEMA\": syntax error",
     "output_type": "error",
     "traceback": [
      "\u001b[1;31m---------------------------------------------------------------------------\u001b[0m",
      "\u001b[1;31mOperationalError\u001b[0m                          Traceback (most recent call last)",
      "\u001b[1;32mc:\\Users\\x\\OneDrive\\Documents\\Python\\Feb_2023\\8_weeks_challenge\\week 1\\start.ipynb Cell 3\u001b[0m in \u001b[0;36m<cell line: 3>\u001b[1;34m()\u001b[0m\n\u001b[0;32m      <a href='vscode-notebook-cell:/c%3A/Users/x/OneDrive/Documents/Python/Feb_2023/8_weeks_challenge/week%201/start.ipynb#W2sZmlsZQ%3D%3D?line=0'>1</a>\u001b[0m db \u001b[39m=\u001b[39m sqlite3\u001b[39m.\u001b[39mconnect(\u001b[39m'\u001b[39m\u001b[39mdannys_diner.db\u001b[39m\u001b[39m'\u001b[39m)\n\u001b[0;32m      <a href='vscode-notebook-cell:/c%3A/Users/x/OneDrive/Documents/Python/Feb_2023/8_weeks_challenge/week%201/start.ipynb#W2sZmlsZQ%3D%3D?line=1'>2</a>\u001b[0m cursor\u001b[39m=\u001b[39mdb\u001b[39m.\u001b[39mcursor()\n\u001b[1;32m----> <a href='vscode-notebook-cell:/c%3A/Users/x/OneDrive/Documents/Python/Feb_2023/8_weeks_challenge/week%201/start.ipynb#W2sZmlsZQ%3D%3D?line=2'>3</a>\u001b[0m cursor\u001b[39m.\u001b[39;49mexecutescript(script)\n\u001b[0;32m      <a href='vscode-notebook-cell:/c%3A/Users/x/OneDrive/Documents/Python/Feb_2023/8_weeks_challenge/week%201/start.ipynb#W2sZmlsZQ%3D%3D?line=3'>4</a>\u001b[0m db\u001b[39m.\u001b[39mcommit()\n\u001b[0;32m      <a href='vscode-notebook-cell:/c%3A/Users/x/OneDrive/Documents/Python/Feb_2023/8_weeks_challenge/week%201/start.ipynb#W2sZmlsZQ%3D%3D?line=4'>5</a>\u001b[0m db\u001b[39m.\u001b[39mclose()\n",
      "\u001b[1;31mOperationalError\u001b[0m: near \"SCHEMA\": syntax error"
     ]
    }
   ],
   "source": [
    "db = sqlite3.connect('dannys_diner.db')\n",
    "cursor=db.cursor()\n",
    "cursor.executescript(script)\n",
    "db.commit()\n",
    "db.close()"
   ]
  },
  {
   "cell_type": "code",
   "execution_count": null,
   "metadata": {},
   "outputs": [],
   "source": []
  }
 ],
 "metadata": {
  "kernelspec": {
   "display_name": "Python 3.9.13 64-bit",
   "language": "python",
   "name": "python3"
  },
  "language_info": {
   "codemirror_mode": {
    "name": "ipython",
    "version": 3
   },
   "file_extension": ".py",
   "mimetype": "text/x-python",
   "name": "python",
   "nbconvert_exporter": "python",
   "pygments_lexer": "ipython3",
   "version": "3.9.13"
  },
  "orig_nbformat": 4,
  "vscode": {
   "interpreter": {
    "hash": "444d05d3491f93f5b17412671d068b195a3e37c936f545933611371140ad11e9"
   }
  }
 },
 "nbformat": 4,
 "nbformat_minor": 2
}
